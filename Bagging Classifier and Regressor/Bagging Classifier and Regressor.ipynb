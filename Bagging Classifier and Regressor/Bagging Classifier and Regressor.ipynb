{
 "cells": [
  {
   "cell_type": "code",
   "execution_count": 118,
   "metadata": {
    "collapsed": true
   },
   "outputs": [],
   "source": [
    "import numpy as np\n",
    "import random\n",
    "import matplotlib\n",
    "import matplotlib.pyplot as plt\n",
    "import pandas as pd\n",
    "import math\n",
    "import scipy\n",
    "import sys\n",
    "import sklearn\n",
    "import collections\n",
    "from sklearn.tree import DecisionTreeRegressor\n",
    "from sklearn.tree import DecisionTreeClassifier\n",
    "from scipy import stats\n",
    "%matplotlib inline"
   ]
  },
  {
   "cell_type": "code",
   "execution_count": 2,
   "metadata": {},
   "outputs": [
    {
     "name": "stdout",
     "output_type": "stream",
     "text": [
      "Numpy Version: 1.14.2\n",
      "Pandas Version: 0.20.3\n",
      "Matplotlib Version: 2.1.0\n",
      "sklearn Version: 0.19.1\n",
      "Python: 3.6.3 |Anaconda custom (64-bit)| (default, Oct 15 2017, 03:27:45) [MSC v.1900 64 bit (AMD64)]\n"
     ]
    }
   ],
   "source": [
    "libraries = [['Numpy', np],['Pandas', pd],['Matplotlib', matplotlib],['sklearn', sklearn]]\n",
    "for i in libraries:\n",
    "    print('{0} Version: {1}'.format(i[0], i[1].__version__))\n",
    "print(\"Python:\", sys.version)"
   ]
  },
  {
   "cell_type": "code",
   "execution_count": 114,
   "metadata": {},
   "outputs": [],
   "source": [
    "\n",
    "class bagging_regression_classification:\n",
    "    def __init__(self, n_trees = 10, max_depth = None, model = 'Regression'):\n",
    "        \"\"\"\n",
    "        model = 'Regression' or 'Classification'\n",
    "        \"\"\"\n",
    "        self.n_trees = n_trees\n",
    "        self.max_depth = max_depth\n",
    "        self.trees = []\n",
    "        self.model = model\n",
    "            \n",
    "    def pandas_to_numpy(self, X):\n",
    "        if type(X) == type(pd.DataFrame()) or type(X) == type(pd.Series([1,2])):\n",
    "            return X.as_matrix()\n",
    "        if type(X) == type(np.array([1])):\n",
    "            return X\n",
    "        else:\n",
    "            return np.array(X)\n",
    "        \n",
    "        \n",
    "    def handle_1d_data(self, X):\n",
    "        if X.ndim == 1:\n",
    "            return X.reshape(-1,1)\n",
    "        else:\n",
    "            return X\n",
    "        \n",
    "    def convert_to_array(self, X):\n",
    "        x = self.pandas_to_numpy(X)\n",
    "        x = self.handle_1d_data(X)\n",
    "        return x\n",
    "        \n",
    "    def bagged_data(self, X, Y):\n",
    "            \n",
    "        \"\"\"\n",
    "        choose random rows with replacenment\n",
    "        \"\"\"\n",
    "            \n",
    "        index = np.random.choice(np.arange(len(X)), len(X))\n",
    "        return X[index], Y[index]\n",
    "        \n",
    "    def fit(self, X, Y, model):\n",
    "        self.model = model\n",
    "            \n",
    "        X = self.convert_to_array(X)\n",
    "        Y  = self.convert_to_array(Y)\n",
    "            \n",
    "        if self.model == 'Regression':\n",
    "            for i in range(self.n_trees):\n",
    "                bagged_X, bagged_Y = self.bagged_data(X, Y)\n",
    "                tree =  DecisionTreeRegressor(max_depth= self.max_depth)\n",
    "                tree.fit(bagged_X, bagged_Y)\n",
    "                self.trees.append(tree)\n",
    "        elif self.model == 'Classification':\n",
    "            for i in range(self.n_trees):\n",
    "                bagged_X, bagged_Y = self.bagged_data(X, Y)\n",
    "                tree =  DecisionTreeClassifier(max_depth= self.max_depth)\n",
    "                tree.fit(bagged_X, bagged_Y)\n",
    "                self.trees.append(tree)\n",
    "                \n",
    "    def predict(self, X):\n",
    "            \n",
    "        X = self.convert_to_array(X)\n",
    "        self.predicts = []\n",
    "        ensemble_prediction = []\n",
    "            \n",
    "        if self.model == 'Regression':\n",
    "                \n",
    "            for tree in self.trees:\n",
    "                self.predicts.append(tree.predict(X))\n",
    "\n",
    "            self.transpose_pred = np.array(self.predicts).T\n",
    "                \n",
    "            for row in self.transpose_pred:\n",
    "                ensemble_prediction.append(np.mean(row))\n",
    "            return ensemble_prediction\n",
    "            \n",
    "        elif self.model == 'Classification':\n",
    "                \n",
    "            for tree in self.trees:\n",
    "                self.predicts.append(tree.predict(X))\n",
    "\n",
    "            self.transpose_pred = np.array(self.predicts).T\n",
    "                \n",
    "            for row in self.transpose_pred:\n",
    "                ensemble_prediction.append(collections.Counter(row).most_common(1)[0][0])\n",
    "            return ensemble_prediction\n",
    "                \n",
    "    def score(self, X, Y):\n",
    "            \n",
    "        pred = self.predict(X)\n",
    "            \n",
    "        if self.model == 'Regression':\n",
    "            return -1.*np.mean((np.array(pred)- np.array(Y))**2)\n",
    "            \n",
    "        elif self.model == 'Classification':\n",
    "            \n",
    "            score = 0    \n",
    "            for a, b in zip(pred, Y):\n",
    "                if a == b:\n",
    "                    score +=1\n",
    "                \n",
    "            return float(score) / float(len(Y))\n",
    "                \n",
    "           \n",
    "                \n",
    "                \n",
    "            "
   ]
  },
  {
   "cell_type": "code",
   "execution_count": 79,
   "metadata": {
    "collapsed": true
   },
   "outputs": [],
   "source": [
    "def get_data():\n",
    "    x = np.linspace(-10,10,300)\n",
    "    y = np.cos(x)\n",
    "    return x, y"
   ]
  },
  {
   "cell_type": "code",
   "execution_count": 80,
   "metadata": {},
   "outputs": [
    {
     "data": {
      "image/png": "[encoded data removed]",
      "text/plain": [
       "<matplotlib.figure.Figure at 0x1af03f02b70>"
      ]
     },
     "metadata": {},
     "output_type": "display_data"
    }
   ],
   "source": [
    "X,y = get_data()\n",
    "plt.plot(X,y);"
   ]
  },
  {
   "cell_type": "code",
   "execution_count": 81,
   "metadata": {
    "collapsed": true
   },
   "outputs": [],
   "source": [
    "def shuffle_data(X, y):\n",
    "    assert len(X) == len(y)\n",
    "    permute = np.random.permutation(len(y))\n",
    "    return X[permute], y[permute]\n",
    "\n",
    "def train_test_split_manual(X, y, test_size=0.3):\n",
    "    nX, ny = shuffle_data(X,y)\n",
    "    split_index = int(len(X)*test_size)\n",
    "    testX = nX[:split_index]\n",
    "    trainX = nX[split_index:]\n",
    "    testy = ny[:split_index]\n",
    "    trainy = ny[split_index:]\n",
    "    return trainX, testX, trainy, testy"
   ]
  },
  {
   "cell_type": "code",
   "execution_count": 82,
   "metadata": {
    "collapsed": true
   },
   "outputs": [],
   "source": [
    "x_train, x_test, y_train, y_test = train_test_split_manual(X,y,test_size=0.3)"
   ]
  },
  {
   "cell_type": "code",
   "execution_count": 83,
   "metadata": {},
   "outputs": [],
   "source": [
    "br = bagging_regression_classification(n_trees=2, max_depth=10)\n",
    "br.fit(x_train, y_train, 'Regression')"
   ]
  },
  {
   "cell_type": "code",
   "execution_count": 84,
   "metadata": {},
   "outputs": [
    {
     "data": {
      "text/plain": [
       "-0.0035914884927345063"
      ]
     },
     "execution_count": 84,
     "metadata": {},
     "output_type": "execute_result"
    }
   ],
   "source": [
    "br.score(x_test,y_test)"
   ]
  },
  {
   "cell_type": "code",
   "execution_count": 87,
   "metadata": {},
   "outputs": [
    {
     "data": {
      "text/plain": [
       "<matplotlib.collections.PathCollection at 0x1af0346ae10>"
      ]
     },
     "execution_count": 87,
     "metadata": {},
     "output_type": "execute_result"
    },
    {
     "data": {
      "image/png": "[encoded data removed]",
      "text/plain": [
       "<matplotlib.figure.Figure at 0x1af03db7a90>"
      ]
     },
     "metadata": {},
     "output_type": "display_data"
    }
   ],
   "source": [
    "plt.plot(X,y)\n",
    "plt.scatter(X, br.predict(X), c = 'r')"
   ]
  },
  {
   "cell_type": "code",
   "execution_count": 88,
   "metadata": {
    "collapsed": true
   },
   "outputs": [],
   "source": [
    "# Classification"
   ]
  },
  {
   "cell_type": "code",
   "execution_count": 89,
   "metadata": {
    "collapsed": true
   },
   "outputs": [],
   "source": [
    "def get_data():\n",
    "    from sklearn.datasets import load_iris\n",
    "    iris = load_iris()\n",
    "    return iris.data, iris.target"
   ]
  },
  {
   "cell_type": "code",
   "execution_count": 90,
   "metadata": {
    "collapsed": true
   },
   "outputs": [],
   "source": [
    "X,y = get_data()"
   ]
  },
  {
   "cell_type": "code",
   "execution_count": 97,
   "metadata": {
    "collapsed": true
   },
   "outputs": [],
   "source": [
    "x_train, x_test, y_train, y_test = train_test_split_manual(X,y,test_size=0.3)"
   ]
  },
  {
   "cell_type": "code",
   "execution_count": 116,
   "metadata": {},
   "outputs": [],
   "source": [
    "bc = bagging_regression_classification(n_trees=50,  max_depth=10)\n",
    "bc.fit(x_train, y_train, 'Classification')"
   ]
  },
  {
   "cell_type": "code",
   "execution_count": 119,
   "metadata": {},
   "outputs": [
    {
     "data": {
      "text/plain": [
       "0.9555555555555556"
      ]
     },
     "execution_count": 119,
     "metadata": {},
     "output_type": "execute_result"
    }
   ],
   "source": [
    "bc.score(x_test,y_test)"
   ]
  },
  {
   "cell_type": "code",
   "execution_count": null,
   "metadata": {
    "collapsed": true
   },
   "outputs": [],
   "source": []
  }
 ],
 "metadata": {
  "kernelspec": {
   "display_name": "Python 3",
   "language": "python",
   "name": "python3"
  },
  "language_info": {
   "codemirror_mode": {
    "name": "ipython",
    "version": 3
   },
   "file_extension": ".py",
   "mimetype": "text/x-python",
   "name": "python",
   "nbconvert_exporter": "python",
   "pygments_lexer": "ipython3",
   "version": "3.6.3"
  }
 },
 "nbformat": 4,
 "nbformat_minor": 2
}
