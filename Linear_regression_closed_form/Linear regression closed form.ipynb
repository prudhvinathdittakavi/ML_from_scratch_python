{
  "cells": [
    {
      "metadata": {
        "_uuid": "8f2839f25d086af736a60e9eeb907d3b93b6e0e5",
        "_cell_guid": "b1076dfc-b9ad-4769-8c92-a6c4dae69d19",
        "trusted": true
      },
      "cell_type": "code",
      "source": "# This Python 3 environment comes with many helpful analytics libraries installed\n# It is defined by the kaggle/python docker image: https://github.com/kaggle/docker-python\n# For example, here's several helpful packages to load in \n\nimport numpy as np # linear algebra\nimport pandas as pd # data processing, CSV file I/O (e.g. pd.read_csv)\nimport random\nimport matplotlib.pyplot as plt\nimport math\nimport scipy\nimport sklearn\nimport matplotlib\nimport sys\n%matplotlib inline\nimport sklearn\nplt.style.use('seaborn')\n\n# Input data files are available in the \"../input/\" directory.\n# For example, running this (by clicking run or pressing Shift+Enter) will list the files in the input directory\n\nimport os\nprint(os.listdir(\"../input\"))\n\n# Any results you write to the current directory are saved as output.",
      "execution_count": 32,
      "outputs": [
        {
          "output_type": "stream",
          "text": "['kc_house_data.csv']\n",
          "name": "stdout"
        }
      ]
    },
    {
      "metadata": {
        "trusted": true,
        "_uuid": "5e4bfee9319d8bd826f68bc3e0dec8c861e89ef8"
      },
      "cell_type": "code",
      "source": "x = np.array([(1,2,3),(4,5,6)])\na = x.shape[0]\nb = np.ones(a).reshape(-1,1)\nb.shape\nc = np.hstack((x,b))\nc\ntype(np.array([1,1]))",
      "execution_count": 2,
      "outputs": [
        {
          "output_type": "execute_result",
          "execution_count": 2,
          "data": {
            "text/plain": "numpy.ndarray"
          },
          "metadata": {}
        }
      ]
    },
    {
      "metadata": {
        "_cell_guid": "79c7e3d0-c299-4dcb-8224-4455121ee9b0",
        "_uuid": "d629ff2d2480ee46fbb7e2d37f6b5fab8052498a",
        "trusted": true
      },
      "cell_type": "code",
      "source": "\"\"\"\nb = (xT x)-1 xT y\nreference for deveration : https://eli.thegreenplace.net/2014/derivation-of-the-normal-equation-for-linear-regression\n\"\"\"\n\nclass linear_regression:\n    \n    def __init__(self, W_intercept = True ):\n        \"\"\"\n        intercept = whether to use y intercept or not\n        \"\"\"\n        \n        self.coef_ = None\n        self.intercept = W_intercept\n        self.is_fit = False\n        \n    def pandas_to_numpy(self, X):\n        \"\"\"\n        Convertion of dataframes and series to matrix\n        \"\"\"\n        if type(X) == type(pd.DataFrame()) or type(x) == type(pd.Series()):\n            return X.as_matrix()\n        if type(X) == type(np.array([1,1])):\n            return X\n        return np.array(X)\n    \n    def one_d_data(self, X):\n        \n        if X.ndim == 1:\n            X = X.reshape(-1,1)\n        return X\n    \n    def convert_to_array(self, X):\n        \n        X = self.pandas_to_numpy(X)\n        X = self.one_d_data(X)\n        return X\n    \n    \n    def add_intercept(self, X):\n        \"\"\"\n        Adding 1 for the intercept term\n        x= [2,3,4] result = [2,3,4,1]\n        \"\"\"\n        rows = X.shape[0]\n        inter = np.ones(rows).reshape(-1,1)\n        return np.hstack((X,inter))\n    \n    def fit(self, X, y):\n        \n        X = self.convert_to_array(X)\n        y = self.convert_to_array(y)\n        y.reshape(-1,1)\n        \n        if self.intercept:\n            X = self.add_intercept(X)\n        \n        \"\"\"\n        b = (xT x)-1 (xT y)\n        \"\"\"\n        invXTX = np.linalg.inv(np.dot(X.T,X))\n        XTY = np.dot(X.T,y)\n        \n        self.coef_ = np.dot(invXTX, XTY)\n        self.is_fit = True\n        \n    def predict(self, X):\n        \n        if not self.is_fit:\n             raise ValueError(\"You have to run the 'fit' method before using predict!\")\n        \n        X = self.convert_to_array(X)\n        \n        if self.intercept:\n            X = self.add_intercept(X)\n        \n        return np.dot(X, self.coef_)\n    \n    def score(self, X, y):\n        \n        X = self.convert_to_array(X)\n        y = self.convert_to_array(y)\n        pred = self.predict(X)\n        return np.mean((np.array(pred)- np.array(y))**2)\n    ",
      "execution_count": 89,
      "outputs": []
    },
    {
      "metadata": {
        "trusted": true,
        "_uuid": "974a8283cb5f1b16bc93ff98fcd5cdd8a04cc3bf"
      },
      "cell_type": "code",
      "source": "X = np.random.uniform(0,10,100)\ny = 4*X + np.random.normal(0,1.5,100) + 10",
      "execution_count": 109,
      "outputs": []
    },
    {
      "metadata": {
        "trusted": true,
        "_uuid": "757faa9ce7c3533d07005d4922fc6175463fa922"
      },
      "cell_type": "code",
      "source": "lr = linear_regression(W_intercept = True)\nlr.fit(X,y)\nlr.coef_",
      "execution_count": 110,
      "outputs": [
        {
          "output_type": "execute_result",
          "execution_count": 110,
          "data": {
            "text/plain": "array([[ 3.96648834],\n       [10.16694391]])"
          },
          "metadata": {}
        }
      ]
    },
    {
      "metadata": {
        "trusted": true,
        "_uuid": "342aebeaeec1a2a06b98717776d7b61d8272af2e"
      },
      "cell_type": "code",
      "source": "from sklearn import linear_model\nRR = linear_model.Ridge(alpha=0)\nX = X.reshape(-1, 1)\nRR.fit(X,y)\nRR.coef_",
      "execution_count": 121,
      "outputs": [
        {
          "output_type": "execute_result",
          "execution_count": 121,
          "data": {
            "text/plain": "array([3.96648834])"
          },
          "metadata": {}
        }
      ]
    },
    {
      "metadata": {
        "trusted": true,
        "_uuid": "dd180d46360a3fb575f226a0696b3257faa8d9a5"
      },
      "cell_type": "code",
      "source": "predicted = lr.predict(X)\npredicted.shape\ny.shape",
      "execution_count": 112,
      "outputs": [
        {
          "output_type": "execute_result",
          "execution_count": 112,
          "data": {
            "text/plain": "(100,)"
          },
          "metadata": {}
        }
      ]
    },
    {
      "metadata": {
        "trusted": true,
        "_uuid": "81c4de33383e054d989aeb8ca9eb4fde584553dd"
      },
      "cell_type": "code",
      "source": "lr.score(X,y)",
      "execution_count": 113,
      "outputs": [
        {
          "output_type": "execute_result",
          "execution_count": 113,
          "data": {
            "text/plain": "1.6235996862586293"
          },
          "metadata": {}
        }
      ]
    },
    {
      "metadata": {
        "trusted": true,
        "_uuid": "2d81216d3f28464c037225d806e2933a6ca49bf1"
      },
      "cell_type": "code",
      "source": "plt.scatter(X,y)\nplt.plot(X,predicted,'r-',lw=4)",
      "execution_count": 120,
      "outputs": [
        {
          "output_type": "execute_result",
          "execution_count": 120,
          "data": {
            "text/plain": "[<matplotlib.lines.Line2D at 0x7fe6b5b54048>]"
          },
          "metadata": {}
        },
        {
          "output_type": "display_data",
          "data": {
            "text/plain": "<Figure size 576x396 with 1 Axes>",
            "image/png": "[encoded data removed]"
          },
          "metadata": {}
        }
      ]
    }
  ],
  "metadata": {
    "kernelspec": {
      "display_name": "Python 3",
      "language": "python",
      "name": "python3"
    },
    "language_info": {
      "name": "python",
      "version": "3.6.6",
      "mimetype": "text/x-python",
      "codemirror_mode": {
        "name": "ipython",
        "version": 3
      },
      "pygments_lexer": "ipython3",
      "nbconvert_exporter": "python",
      "file_extension": ".py"
    }
  },
  "nbformat": 4,
  "nbformat_minor": 1
}