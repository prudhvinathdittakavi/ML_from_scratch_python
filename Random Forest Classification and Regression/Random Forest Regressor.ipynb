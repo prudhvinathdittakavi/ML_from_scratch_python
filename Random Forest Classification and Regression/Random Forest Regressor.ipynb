{
 "cells": [
  {
   "cell_type": "code",
   "execution_count": 1,
   "metadata": {
    "collapsed": true
   },
   "outputs": [],
   "source": [
    "import numpy as np\n",
    "import random\n",
    "import matplotlib\n",
    "import matplotlib.pyplot as plt\n",
    "import pandas as pd\n",
    "import math\n",
    "import scipy\n",
    "import sys\n",
    "import sklearn\n",
    "import collections\n",
    "from sklearn.tree import DecisionTreeRegressor\n",
    "from scipy import stats\n",
    "%matplotlib inline"
   ]
  },
  {
   "cell_type": "code",
   "execution_count": 10,
   "metadata": {},
   "outputs": [
    {
     "name": "stdout",
     "output_type": "stream",
     "text": [
      "Numpy Version: 1.14.2\n",
      "Pandas Version: 0.20.3\n",
      "Matplotlib Version: 2.1.0\n",
      "sklearn Version: 0.19.1\n",
      "Python: 3.6.3 |Anaconda custom (64-bit)| (default, Oct 15 2017, 03:27:45) [MSC v.1900 64 bit (AMD64)]\n"
     ]
    }
   ],
   "source": [
    "libraries = [['Numpy', np],['Pandas', pd],['Matplotlib', matplotlib],['sklearn', sklearn]]\n",
    "for i in libraries:\n",
    "    print('{0} Version: {1}'.format(i[0], i[1].__version__))\n",
    "print(\"Python:\", sys.version)"
   ]
  },
  {
   "cell_type": "code",
   "execution_count": 16,
   "metadata": {
    "collapsed": true
   },
   "outputs": [],
   "source": [
    "class random_forest_regressor:\n",
    "    \n",
    "    def __init__ (self, n_trees = 10, max_depth=None, n_features='sqrt', seed=None, criteria='mse'):\n",
    "        \"\"\"\n",
    "        random forest uses bootstrapping and column randomization generate different data sets and it applies decistio trees to\n",
    "        each of the generated data sets. The final prediction will be an ensemble of all the trees\n",
    "        \"\"\"\n",
    "        \n",
    "        self.n_trees = n_trees\n",
    "        self.max_depth = max_depth\n",
    "        self.n_features = n_features\n",
    "        self.tree_filter = []\n",
    "        self.criteria = criteria\n",
    "        if seed:\n",
    "            self._seed = seed\n",
    "            np.random.seed(seed)\n",
    "            \n",
    "    def pandas_to_numpy(self, X):\n",
    "        \n",
    "        if type(X) == type(pd.DataFrame()) or type(X) == type(pd.Series()):\n",
    "            return X.as_matrix()\n",
    "        elif type(X) == type(np.array([1,2,3,4])):\n",
    "            return X\n",
    "        else:\n",
    "            return np.array(X)\n",
    "        \n",
    "    def handle_1d_data(self, X):\n",
    "        \n",
    "        if X.ndim == 1:\n",
    "            return X.reshape(-1,1)\n",
    "    \n",
    "    def convert_to_array(self, X):\n",
    "        \n",
    "        X = self.pandas_to_numpy(X)\n",
    "        X = self.handle_1d_data(X)\n",
    "        return X\n",
    "    \n",
    "    def get_bagged_data(self, X, Y):\n",
    "        \"\"\"\n",
    "        random selection of rows with replacenment. \n",
    "        \"\"\"\n",
    "        \n",
    "        index =  np.random.choice(np.arange(len(X)), len(X))\n",
    "        return X[index], Y[index]\n",
    "    \n",
    "    def num_columns(self, X):\n",
    "        \"\"\"\n",
    "        you can manulally give the number of features or ask model to select \n",
    "        options: sqrt i.e it will return sqrt of number of columns in X\n",
    "        \"\"\"\n",
    "        if isinstance(self.n_features, int):\n",
    "            return self.n_features\n",
    "        elif self.n_features == 'sqrt':\n",
    "            return int(np.sqrt(X.shape[1]) + 0.5 )\n",
    "        else:\n",
    "            raise ValueError(\"n_features must be int or sqrt\")\n",
    "    \n",
    "    def column_randomizer(self, X):\n",
    "        \"\"\"\n",
    "        Selects random columns without replacenment\n",
    "        \"\"\"\n",
    "        num_col = self.num_columns(X)\n",
    "        col_filter = np.random.choice(np.arange(X.shape[1]), num_col, replace = False)\n",
    "        filtered_X = self.filter_col(X, col_filter)\n",
    "        return filtered_X, col_filter\n",
    "    \n",
    "    def filter_col(self, X, col_filter):\n",
    "        \n",
    "        filtered_X = X.T[col_filter]\n",
    "        return filtered_X.T\n",
    "    \n",
    "    def fit(self, X, Y):\n",
    "        \n",
    "        X = self.convert_to_array(X)\n",
    "        Y = self.convert_to_array(Y)\n",
    "        \n",
    "        for i in range(self.n_trees):\n",
    "            \n",
    "            bagX, bagY = self.get_bagged_data(X, Y)\n",
    "            filtered_bagX, col_filter =  self.column_randomizer(bagX)\n",
    "            new_tree = DecisionTreeRegressor(max_depth = self.max_depth, criterion = self.criteria)\n",
    "            \n",
    "            new_tree.fit(filtered_bagX, bagY)\n",
    "            self.tree_filter.append((new_tree, col_filter))\n",
    "            \n",
    "            \n",
    "    def predict(self, X):\n",
    "        \n",
    "        X = self.convert_to_array(X)\n",
    "        self.prediction = []\n",
    "        self.rf_pred = []\n",
    "        for tree, col_filter in self.tree_filter:\n",
    "            filtered_X = self.filter_col(X, col_filter)\n",
    "            self.prediction.append(tree.predict(filtered_X))\n",
    "        self.row_prediction = np.array(self.prediction).T\n",
    "        \n",
    "        for row in self.row_prediction:\n",
    "            self.rf_pred.append(np.mean(row))\n",
    "        return self.rf_pred\n",
    "    \n",
    "    \n",
    "    def score(self, X, Y):\n",
    "        \n",
    "        pred = self.predict(X)\n",
    "        return -1*np.mean((np.array(pred) - np.array(Y))**2)\n",
    "            \n",
    "\n",
    "            \n",
    "    \n",
    "    "
   ]
  },
  {
   "cell_type": "code",
   "execution_count": 3,
   "metadata": {
    "collapsed": true
   },
   "outputs": [],
   "source": [
    "def get_data():\n",
    "    x = np.linspace(-10,10,300)\n",
    "    y = np.cos(x)\n",
    "    return x, y"
   ]
  },
  {
   "cell_type": "code",
   "execution_count": 4,
   "metadata": {},
   "outputs": [
    {
     "data": {
      "image/png": "[encoded data removed]",
      "text/plain": [
       "<matplotlib.figure.Figure at 0x27ae99cd390>"
      ]
     },
     "metadata": {},
     "output_type": "display_data"
    }
   ],
   "source": [
    "X,y = get_data()\n",
    "plt.plot(X,y);"
   ]
  },
  {
   "cell_type": "code",
   "execution_count": 5,
   "metadata": {
    "collapsed": true
   },
   "outputs": [],
   "source": [
    "def shuffle_data(X, y):\n",
    "    assert len(X) == len(y)\n",
    "    permute = np.random.permutation(len(y))\n",
    "    return X[permute], y[permute]\n",
    "\n",
    "def train_test_split_manual(X, y, test_size=0.3):\n",
    "    nX, ny = shuffle_data(X,y)\n",
    "    split_index = int(len(X)*test_size)\n",
    "    testX = nX[:split_index]\n",
    "    trainX = nX[split_index:]\n",
    "    testy = ny[:split_index]\n",
    "    trainy = ny[split_index:]\n",
    "    return trainX, testX, trainy, testy"
   ]
  },
  {
   "cell_type": "code",
   "execution_count": 7,
   "metadata": {
    "collapsed": true
   },
   "outputs": [],
   "source": [
    "X_train, X_test, y_train, y_test = train_test_split_manual(X,y,test_size=0.3)"
   ]
  },
  {
   "cell_type": "code",
   "execution_count": 17,
   "metadata": {},
   "outputs": [],
   "source": [
    "rf = random_forest_regressor(n_trees=25, n_features='sqrt',seed=42)\n",
    "rf.fit(X_train, y_train)"
   ]
  },
  {
   "cell_type": "code",
   "execution_count": 18,
   "metadata": {},
   "outputs": [
    {
     "data": {
      "text/plain": [
       "-0.001726282641852281"
      ]
     },
     "execution_count": 18,
     "metadata": {},
     "output_type": "execute_result"
    }
   ],
   "source": [
    "rf.score(X_test,y_test)"
   ]
  },
  {
   "cell_type": "code",
   "execution_count": 19,
   "metadata": {},
   "outputs": [
    {
     "data": {
      "text/plain": [
       "<matplotlib.collections.PathCollection at 0x27aea1287b8>"
      ]
     },
     "execution_count": 19,
     "metadata": {},
     "output_type": "execute_result"
    },
    {
     "data": {
      "image/png": "[encoded data removed]",
      "text/plain": [
       "<matplotlib.figure.Figure at 0x27aea0f3c50>"
      ]
     },
     "metadata": {},
     "output_type": "display_data"
    }
   ],
   "source": [
    "plt.plot(X,y)\n",
    "plt.scatter(X, rf.predict(X), c = 'r')"
   ]
  },
  {
   "cell_type": "code",
   "execution_count": null,
   "metadata": {
    "collapsed": true
   },
   "outputs": [],
   "source": []
  }
 ],
 "metadata": {
  "kernelspec": {
   "display_name": "Python 3",
   "language": "python",
   "name": "python3"
  },
  "language_info": {
   "codemirror_mode": {
    "name": "ipython",
    "version": 3
   },
   "file_extension": ".py",
   "mimetype": "text/x-python",
   "name": "python",
   "nbconvert_exporter": "python",
   "pygments_lexer": "ipython3",
   "version": "3.6.3"
  }
 },
 "nbformat": 4,
 "nbformat_minor": 2
}
