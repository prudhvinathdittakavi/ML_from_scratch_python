{
  "cells": [
    {
      "metadata": {
        "_uuid": "8f2839f25d086af736a60e9eeb907d3b93b6e0e5",
        "_cell_guid": "b1076dfc-b9ad-4769-8c92-a6c4dae69d19",
        "trusted": true
      },
      "cell_type": "code",
      "source": "import numpy as np # linear algebra\nimport pandas as pd # data processing, CSV file I/O (e.g. pd.read_csv)\nimport sklearn\nimport matplotlib\nimport sys\n\n",
      "execution_count": 1,
      "outputs": [
        {
          "output_type": "stream",
          "text": "[]\n",
          "name": "stdout"
        }
      ]
    },
    {
      "metadata": {
        "_cell_guid": "79c7e3d0-c299-4dcb-8224-4455121ee9b0",
        "_uuid": "d629ff2d2480ee46fbb7e2d37f6b5fab8052498a",
        "trusted": true
      },
      "cell_type": "code",
      "source": "class sgd_regressor:\n    \n    def __init__(self, n_iter = 100, alpha = 0.01, verbose  = False, return_steps = False, \n                 fit_intercept = True,dynamic = False, loss = 'ols', epsilon=0.1):\n        \"\"\"\n        alpha = learning rate\n        vebose = to print cofficient info during epochs\n        fit_intercept = to use a intercept\n        dynamic = to use dynamic learning rate\n        return_steps = to returns the coefs for each update \n        \"\"\"\n        self.coef_ = None\n        self.trained = False\n        self.n_iter = n_itre\n        self.alpha = alpha\n        self.verbosity = verbose\n        self._return_steps = return_steps\n        self._fit_intercept = fit_intercept\n        self._next_alpha_shift = 0.1\n        self._dynamic = dynamic\n        \n    def init_coef(self, X):\n        \"\"\"\n        generate random coeff \n        if fit_intrcept is true generate number of featurs + 1 \n        if it is false then generate number of featurs\n        \"\"\"\n        if self._fit_intercept:\n            return np.random.rand(X.shape[1] + 1)\n        else:\n            return np.random.rand(X.shape[1])\n        \n    def pandas_to_numpy(self, X):\n        \n        if type(X) == type(pd.DataFrame()) or type(X) == type(pd.series()):\n            return X.as_matrix()\n        if type(X) == type(np.array(1,1)):\n            return X\n    \n    def handle_1d_data(self, X):\n        \n        if X.dim == 1 :\n            return X.reshape(-1,1)\n        else:\n            return X\n    \n    def convert_to_array(self, X):\n        \n        X = self.pandas_to_numpy(X)\n        X = self.handle_1d_data(X)\n        return X\n    \n    def shuffle_data(self, X, y):\n        \n        if len(X) == len(y):\n            per = np.random.permutation(len(y))\n            return X[per], y[per]\n        else:\n            raise ValueError(\"length of X and Y are not equal\")\n    \n    def predict(self, X, is_array = False):\n        \n        if not is_array:\n            X = self.convert_to_array(X)\n        if not self.coef_.all():\n            raise ValueError(\"Coefficients not defined, must fit() before predict().\")\n        if self._fit_intercept:\n            return np.dot(X, self.coef_[1:]) + self.coef_[0]\n        return np.dot(X, self.coef_[1:])\n    \n    def update(self, X, error):\n        \"\"\"\n        step = aplha * d(cost)/db\n        b = b - step ( Updating of parameters)\n        \"\"\"\n        step = self.alpha_ * error * X\n        \n        if self._fit_intercept:\n            self.coef_[1:] = self.coef_[1:] - step\n            self.coef_[0] = self.coef_[0] - (self.aplha * error * 1)\n        else:\n            self.coef_ = self.coef_ - step\n    \n    def dynamic_learning_rate_ckeck(self, epoch):\n        \"\"\"\n        if dynamic = True the alpha is decreased by a factor of 2 after every 10% of the total \n        number of epochs\n        \"\"\"\n        percentage_of_epochs = float(epoch)/float(self.n_iter)\n        if percentage_of_epoch > self._next_alpha_shift:\n            self._next_alpha_shift += 0.1\n            self.alpha_ = self.alpha_/2\n        \n    \n    def fit(self, X, y):\n        \n        X = self.convert_to_array(X)\n        y = self.convert_to_array(y)\n        self._stdy = np.std(y)\n        self.coef_ = self.init_coef(X)\n        if self._return_steps :\n            steps = []\n            steps.append(np.copy(self.coef_))\n        for epoch in range(self.n_iter):\n            shuf_X, shuf_y = self.shuffle_data(X, y)\n            if self.verbosity:\n                print('epoch:', epoch,'coef:', self.coef_)\n            for data, true in zip(shuf_X, shuf_y):\n                pred = self.predict(data, is_array = True)\n                error = pred - true\n                self.update(data, error)\n                if self._return_steps:\n                    steps.append(np.copy(self.coef_))\n            if self._dynamic:\n                self.dynamic_learning_rate_ckeck(epoch)\n        if self._return_steps:\n            return steps\n        \n    def score(self, X, y):\n        \n        pred = self.predict(X)\n        return np.mean((np.array(pred)- np.array(y))**2)\n    \n    \n            ",
      "execution_count": 16,
      "outputs": []
    },
    {
      "metadata": {
        "trusted": true,
        "_uuid": "8205a3eb8d9244a1512d8fe052fd33972729f82d"
      },
      "cell_type": "code",
      "source": "x = np.array((1,2,3,4,5))\ny = np.array((6,7,8,9,0))\nfor data in zip(x,y):\n    print( data)",
      "execution_count": 6,
      "outputs": [
        {
          "output_type": "stream",
          "text": "(1, 6)\n(2, 7)\n(3, 8)\n(4, 9)\n(5, 0)\n",
          "name": "stdout"
        }
      ]
    },
    {
      "metadata": {
        "trusted": true,
        "_uuid": "e68b56ba1134b04ec024092baef9a8044c3e21fd"
      },
      "cell_type": "code",
      "source": "x = True\nnot x",
      "execution_count": 8,
      "outputs": [
        {
          "output_type": "execute_result",
          "execution_count": 8,
          "data": {
            "text/plain": "False"
          },
          "metadata": {}
        }
      ]
    },
    {
      "metadata": {
        "trusted": true,
        "_uuid": "170f3ae16e906d3ba62417c73d2956ac7d6e6632"
      },
      "cell_type": "code",
      "source": "z = np.array(())\nz.all()",
      "execution_count": 12,
      "outputs": [
        {
          "output_type": "execute_result",
          "execution_count": 12,
          "data": {
            "text/plain": "True"
          },
          "metadata": {}
        }
      ]
    },
    {
      "metadata": {
        "trusted": true,
        "_uuid": "3ef5c2de6f7b300b50b8cb886c7ecf2f0555a50e"
      },
      "cell_type": "code",
      "source": "",
      "execution_count": null,
      "outputs": []
    }
  ],
  "metadata": {
    "kernelspec": {
      "display_name": "Python 3",
      "language": "python",
      "name": "python3"
    },
    "language_info": {
      "name": "python",
      "version": "3.6.6",
      "mimetype": "text/x-python",
      "codemirror_mode": {
        "name": "ipython",
        "version": 3
      },
      "pygments_lexer": "ipython3",
      "nbconvert_exporter": "python",
      "file_extension": ".py"
    }
  },
  "nbformat": 4,
  "nbformat_minor": 1
}