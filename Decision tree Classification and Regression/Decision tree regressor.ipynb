{
 "cells": [
  {
   "cell_type": "code",
   "execution_count": 6,
   "metadata": {
    "collapsed": true
   },
   "outputs": [],
   "source": [
    "import numpy as np\n",
    "import random\n",
    "import matplotlib.pyplot as plt\n",
    "import pandas as pd\n",
    "import math\n",
    "import sklearn\n",
    "import matplotlib\n",
    "import sys\n",
    "import scipy\n",
    "%matplotlib inline\n",
    "plt.style.use('seaborn')"
   ]
  },
  {
   "cell_type": "code",
   "execution_count": null,
   "metadata": {
    "collapsed": true
   },
   "outputs": [],
   "source": [
    "\n",
    "class decision_tree_regressor:\n",
    "    \n",
    "    def __init__(self, max_depth = None, criteria ='std'):\n",
    "        \"\"\"\n",
    "        KWargs:\n",
    "        max_depth number of splits\n",
    "        criteria: metric to measure the split strength\n",
    "        std = to reduce the standewd deviation \n",
    "        \"\"\"\n",
    "        self.tree = self.tree_split()\n",
    "        self.data_cols = None\n",
    "        self.max_depth = max_depth\n",
    "        self.current_depth = 0\n",
    "        self.criteria = criteria\n",
    "        \n",
    "    # Sub class is used to handle the recursive nods\n",
    "    \n",
    "    class tree_split:\n",
    "        \"\"\"\n",
    "        each node contains the value and column for the current split\n",
    "        \"\"\"\n",
    "        def __init__(self,col=-1,value=None,results=None,label=None,tb=None,fb=None)\n",
    "        self.col = col # column index for the current split\n",
    "        self.value = value #\n",
    "        self.tb = tb # true decision node\n",
    "        self.fb = fb # false decision node\n",
    "        self.results = results #\n",
    "        \n",
    "    def pandas_to_numpy(self, x):\n",
    "        \n",
    "        if type(x) == type(pd.DataFrame()) or typr(pd.series()):\n",
    "            return x.as_matrix()\n",
    "        if type(x) == type(np.array([1,1])):\n",
    "            return x\n",
    "        \n",
    "    def handle_1d_data(self, x):\n",
    "        \n",
    "        if x.ndim == 1:\n",
    "            x = x.reshape(-1, 1)\n",
    "        return x\n",
    "    \n",
    "    def convert_to_array(self, x):\n",
    "        \n",
    "        x = self.pandas_to_numpy(x)\n",
    "        x = self.handle_1d_data(x)\n",
    "        return x\n",
    "    \n",
    "    def split_data(self, X, y, colnum, value):\n",
    "        \"\"\"\n",
    "        out: returns two sets of data. set 1 if condition is passed\n",
    "        else set 2\n",
    "        input: The dataset, the column to split on, the value on which to split\n",
    "        \"\"\"\n",
    "        split = None\n",
    "        if isinstance(value, int) or isinstance(value, float):\n",
    "            split = lambda x: x[colnum] >= value  # numerical\n",
    "        else:\n",
    "            split = lambda x: x[colnum] == value  # catagorical\n",
    "        \n",
    "        true_index = [i for i,v in enumerate(split) if v == True]\n",
    "        flase_index = [i for i,v in enumerate(split) if v == False]\n",
    "        t_s_x = X[true_index]\n",
    "        t_s_y = y[true_index]\n",
    "        f_s_x = X[flase_index]\n",
    "        f_s_y = y[flase_index]\n",
    "        return t_s_x, t_s_y, f_s_x, f_s_y \n",
    "        \n",
    "        \n",
    "        \n",
    "    def split_criteria(self, y): \n",
    "        \"\"\"\n",
    "        returns the criteria we are trying to min\n",
    "        input: targets in the split\n",
    "        out: Criteria\n",
    "        \"\"\"\n",
    "        if self.criteria == 'mae':\n",
    "            mu = np.mean(y)\n",
    "            return np.mean(np.abs(y - mu))\n",
    "        if self.criteria == 'std':\n",
    "            return np.std(y)\n",
    "        \n",
    "    def get_mean_target_value(self, data):\n",
    "        \"\"\"\n",
    "        out: a dic of target variables in the data\n",
    "        \"\"\"\n",
    "        return np.mean(data)\n",
    "    \n",
    "    def _fit(self, X, y, depth = 0):\n",
    "        \"\"\"\n",
    "        Checks every possible branch for the best current decision\n",
    "        if no information gain then sets that node to leaf node\n",
    "        if max depth is met, all further nodes becomes leaves as well\n",
    "        \"\"\"\n",
    "        X = self.convert_to_array(X)\n",
    "        y = self.convert_to_array(y)\n",
    "        \n",
    "        if len(X) == 0: return tree_split()\n",
    "        current_score = self.split_criteria(y)\n",
    "        \n",
    "        best_gain = 0.0\n",
    "        best_criteria = None\n",
    "        best_set = None\n",
    "        \n",
    "        self.data_cols = X.shape[1]\n",
    "        \n",
    "        \"\"\"\n",
    "        we go through each column and try every possible split\n",
    "        then measure information gain to select the best split\n",
    "        after the split the split data set is sent to the next phase of splitting\n",
    "        \"\"\"\n",
    "        \n",
    "        for col in range(self.data_cols):\n",
    "            column_values = set(X[col])   # c\n",
    "            for value in colum_values:\n",
    "                set1, set1_y, set2, set2_y = self.split_data(X, y, col, value)\n",
    "                p = float(len(set1))/ len(y)\n",
    "                gain = current_score - p*self.split_criteria(set1) - (1-p)*self.split_criteria(set2)\n",
    "                if gain > best_gain and len(set1_y) and len(set2_y):\n",
    "                    best_gain = gain\n",
    "                    best_criteria = (col, val)\n",
    "                    best_sets = (np.array(set1), np.array(set1_y), np.array(set2), np.array(set2_y))\n",
    "        \n",
    "        # checking for end point.\n",
    "        if(self.max_depth and depth < self.max_depth):   #c\n",
    "            if best_gain > 0:\n",
    "                self.current_depth += 1\n",
    "                true_branch = self._fit(best_sets[0], best_sets[1], depth = depth+1)\n",
    "                false_branch = self._fit(best_sets[2], best_sets[3], depth = depth+1)\n",
    "                return self.tree_split(col=best_criteria[0], value=best_criteria[1],\n",
    "                        tb=true_branch, fb=false_branch)\n",
    "            else:\n",
    "                return self.tree_split(result = self.get_mean_target_value(y))\n",
    "        else:\n",
    "            return self.tree_split(result = self.get_mean_target_value(y))\n",
    "        \n",
    "        \n",
    "        \n",
    "    def fit(self, X, y):\n",
    "        '''\n",
    "        fit is defined seperately because _fit takes care of recursion. \n",
    "        '''\n",
    "        return _fit(self, X, y, depth = 0)\n",
    "    \n",
    "    \n",
    "    \n",
    "    \n",
    "    \n",
    "    \n",
    "            \n",
    "        \n",
    "            "
   ]
  },
  {
   "cell_type": "code",
   "execution_count": 41,
   "metadata": {},
   "outputs": [
    {
     "name": "stdout",
     "output_type": "stream",
     "text": [
      "0\n",
      "1\n",
      "2\n",
      "3\n",
      "4\n",
      "5\n",
      "6\n",
      "7\n",
      "8\n"
     ]
    }
   ],
   "source": [
    "a = np.array(np.arange(9))\n",
    "b = set(a)\n",
    "for i in b:\n",
    "    print(i)"
   ]
  },
  {
   "cell_type": "code",
   "execution_count": 22,
   "metadata": {},
   "outputs": [
    {
     "data": {
      "text/plain": [
       "array([3, 4, 5])"
      ]
     },
     "execution_count": 22,
     "metadata": {},
     "output_type": "execute_result"
    }
   ],
   "source": [
    "a[1]"
   ]
  },
  {
   "cell_type": "code",
   "execution_count": 26,
   "metadata": {},
   "outputs": [
    {
     "data": {
      "text/html": [
       "<div>\n",
       "<style>\n",
       "    .dataframe thead tr:only-child th {\n",
       "        text-align: right;\n",
       "    }\n",
       "\n",
       "    .dataframe thead th {\n",
       "        text-align: left;\n",
       "    }\n",
       "\n",
       "    .dataframe tbody tr th {\n",
       "        vertical-align: top;\n",
       "    }\n",
       "</style>\n",
       "<table border=\"1\" class=\"dataframe\">\n",
       "  <thead>\n",
       "    <tr style=\"text-align: right;\">\n",
       "      <th></th>\n",
       "      <th>one</th>\n",
       "      <th>two</th>\n",
       "    </tr>\n",
       "  </thead>\n",
       "  <tbody>\n",
       "    <tr>\n",
       "      <th>1</th>\n",
       "      <td>1</td>\n",
       "      <td>5</td>\n",
       "    </tr>\n",
       "    <tr>\n",
       "      <th>2</th>\n",
       "      <td>2</td>\n",
       "      <td>6</td>\n",
       "    </tr>\n",
       "    <tr>\n",
       "      <th>3</th>\n",
       "      <td>3</td>\n",
       "      <td>7</td>\n",
       "    </tr>\n",
       "    <tr>\n",
       "      <th>4</th>\n",
       "      <td>4</td>\n",
       "      <td>8</td>\n",
       "    </tr>\n",
       "  </tbody>\n",
       "</table>\n",
       "</div>"
      ],
      "text/plain": [
       "   one  two\n",
       "1    1    5\n",
       "2    2    6\n",
       "3    3    7\n",
       "4    4    8"
      ]
     },
     "execution_count": 26,
     "metadata": {},
     "output_type": "execute_result"
    }
   ],
   "source": [
    "df = pd.DataFrame({'one': pd.Series((1,2,3,4), index =[1,2,3,4]), 'two': pd.Series((5,6,7,8),index =[1,2,3,4])})\n",
    "df"
   ]
  },
  {
   "cell_type": "code",
   "execution_count": 29,
   "metadata": {},
   "outputs": [
    {
     "data": {
      "text/plain": [
       "array([[1, 5],\n",
       "       [2, 6],\n",
       "       [3, 7],\n",
       "       [4, 8]], dtype=int64)"
      ]
     },
     "execution_count": 29,
     "metadata": {},
     "output_type": "execute_result"
    }
   ],
   "source": [
    "dfm = df.as_matrix()\n",
    "dfm"
   ]
  },
  {
   "cell_type": "code",
   "execution_count": 30,
   "metadata": {},
   "outputs": [
    {
     "data": {
      "text/plain": [
       "array([2, 6], dtype=int64)"
      ]
     },
     "execution_count": 30,
     "metadata": {},
     "output_type": "execute_result"
    }
   ],
   "source": [
    "dfm[1]"
   ]
  },
  {
   "cell_type": "code",
   "execution_count": 4,
   "metadata": {},
   "outputs": [
    {
     "ename": "TypeError",
     "evalue": "unhashable type: 'list'",
     "output_type": "error",
     "traceback": [
      "\u001b[1;31m---------------------------------------------------------------------------\u001b[0m",
      "\u001b[1;31mTypeError\u001b[0m                                 Traceback (most recent call last)",
      "\u001b[1;32m<ipython-input-4-89bf19cbfab6>\u001b[0m in \u001b[0;36m<module>\u001b[1;34m()\u001b[0m\n\u001b[0;32m      1\u001b[0m \u001b[0mml\u001b[0m \u001b[1;33m=\u001b[0m \u001b[1;33m[\u001b[0m\u001b[1;33m[\u001b[0m\u001b[1;36m1\u001b[0m\u001b[1;33m,\u001b[0m\u001b[1;36m2\u001b[0m\u001b[1;33m]\u001b[0m\u001b[1;33m,\u001b[0m\u001b[1;33m[\u001b[0m\u001b[1;36m3\u001b[0m\u001b[1;33m,\u001b[0m\u001b[1;36m4\u001b[0m\u001b[1;33m]\u001b[0m\u001b[1;33m]\u001b[0m\u001b[1;33m\u001b[0m\u001b[0m\n\u001b[1;32m----> 2\u001b[1;33m \u001b[0mset\u001b[0m\u001b[1;33m(\u001b[0m\u001b[0mml\u001b[0m\u001b[1;33m)\u001b[0m\u001b[1;33m\u001b[0m\u001b[0m\n\u001b[0m",
      "\u001b[1;31mTypeError\u001b[0m: unhashable type: 'list'"
     ]
    }
   ],
   "source": [
    "ml = [[1,2],[3,4]]\n"
   ]
  },
  {
   "cell_type": "code",
   "execution_count": 5,
   "metadata": {},
   "outputs": [
    {
     "data": {
      "text/plain": [
       "[0, 1, 2, 3]"
      ]
     },
     "execution_count": 5,
     "metadata": {},
     "output_type": "execute_result"
    }
   ],
   "source": [
    "split = [True, True, True, True, False, False ]\n",
    "true_index =[i for i,v in enumerate(split) if v == True]\n",
    "true_index"
   ]
  },
  {
   "cell_type": "code",
   "execution_count": 13,
   "metadata": {},
   "outputs": [
    {
     "ename": "TypeError",
     "evalue": "'numpy.ndarray' object is not callable",
     "output_type": "error",
     "traceback": [
      "\u001b[1;31m---------------------------------------------------------------------------\u001b[0m",
      "\u001b[1;31mTypeError\u001b[0m                                 Traceback (most recent call last)",
      "\u001b[1;32m<ipython-input-13-7d5d84222d9e>\u001b[0m in \u001b[0;36m<module>\u001b[1;34m()\u001b[0m\n\u001b[0;32m      1\u001b[0m \u001b[0mx\u001b[0m \u001b[1;33m=\u001b[0m \u001b[0mnp\u001b[0m\u001b[1;33m.\u001b[0m\u001b[0marray\u001b[0m\u001b[1;33m(\u001b[0m\u001b[1;33m[\u001b[0m\u001b[1;36m1\u001b[0m\u001b[1;33m,\u001b[0m\u001b[1;36m2\u001b[0m\u001b[1;33m,\u001b[0m\u001b[1;36m3\u001b[0m\u001b[1;33m,\u001b[0m\u001b[1;36m4\u001b[0m\u001b[1;33m,\u001b[0m\u001b[1;36m5\u001b[0m\u001b[1;33m,\u001b[0m\u001b[1;36m6\u001b[0m\u001b[1;33m]\u001b[0m\u001b[1;33m)\u001b[0m\u001b[1;33m\u001b[0m\u001b[0m\n\u001b[0;32m      2\u001b[0m \u001b[0msplit\u001b[0m \u001b[1;33m=\u001b[0m \u001b[0mnp\u001b[0m\u001b[1;33m.\u001b[0m\u001b[0marray\u001b[0m\u001b[1;33m(\u001b[0m\u001b[0mx\u001b[0m \u001b[1;33m>=\u001b[0m \u001b[1;36m4\u001b[0m\u001b[1;33m)\u001b[0m\u001b[1;33m\u001b[0m\u001b[0m\n\u001b[1;32m----> 3\u001b[1;33m \u001b[0msplit1\u001b[0m \u001b[1;33m=\u001b[0m \u001b[1;33m[\u001b[0m\u001b[0mi\u001b[0m \u001b[1;32mfor\u001b[0m \u001b[0mi\u001b[0m\u001b[1;33m,\u001b[0m\u001b[0mrow\u001b[0m \u001b[1;32min\u001b[0m \u001b[0mnp\u001b[0m\u001b[1;33m.\u001b[0m\u001b[0mndenumerate\u001b[0m\u001b[1;33m(\u001b[0m\u001b[0mx\u001b[0m\u001b[1;33m)\u001b[0m \u001b[1;32mif\u001b[0m \u001b[0msplit\u001b[0m\u001b[1;33m(\u001b[0m\u001b[0mrow\u001b[0m\u001b[1;33m)\u001b[0m\u001b[1;33m]\u001b[0m\u001b[1;33m\u001b[0m\u001b[0m\n\u001b[0m\u001b[0;32m      4\u001b[0m \u001b[0msplit1\u001b[0m\u001b[1;33m\u001b[0m\u001b[0m\n",
      "\u001b[1;32m<ipython-input-13-7d5d84222d9e>\u001b[0m in \u001b[0;36m<listcomp>\u001b[1;34m(.0)\u001b[0m\n\u001b[0;32m      1\u001b[0m \u001b[0mx\u001b[0m \u001b[1;33m=\u001b[0m \u001b[0mnp\u001b[0m\u001b[1;33m.\u001b[0m\u001b[0marray\u001b[0m\u001b[1;33m(\u001b[0m\u001b[1;33m[\u001b[0m\u001b[1;36m1\u001b[0m\u001b[1;33m,\u001b[0m\u001b[1;36m2\u001b[0m\u001b[1;33m,\u001b[0m\u001b[1;36m3\u001b[0m\u001b[1;33m,\u001b[0m\u001b[1;36m4\u001b[0m\u001b[1;33m,\u001b[0m\u001b[1;36m5\u001b[0m\u001b[1;33m,\u001b[0m\u001b[1;36m6\u001b[0m\u001b[1;33m]\u001b[0m\u001b[1;33m)\u001b[0m\u001b[1;33m\u001b[0m\u001b[0m\n\u001b[0;32m      2\u001b[0m \u001b[0msplit\u001b[0m \u001b[1;33m=\u001b[0m \u001b[0mnp\u001b[0m\u001b[1;33m.\u001b[0m\u001b[0marray\u001b[0m\u001b[1;33m(\u001b[0m\u001b[0mx\u001b[0m \u001b[1;33m>=\u001b[0m \u001b[1;36m4\u001b[0m\u001b[1;33m)\u001b[0m\u001b[1;33m\u001b[0m\u001b[0m\n\u001b[1;32m----> 3\u001b[1;33m \u001b[0msplit1\u001b[0m \u001b[1;33m=\u001b[0m \u001b[1;33m[\u001b[0m\u001b[0mi\u001b[0m \u001b[1;32mfor\u001b[0m \u001b[0mi\u001b[0m\u001b[1;33m,\u001b[0m\u001b[0mrow\u001b[0m \u001b[1;32min\u001b[0m \u001b[0mnp\u001b[0m\u001b[1;33m.\u001b[0m\u001b[0mndenumerate\u001b[0m\u001b[1;33m(\u001b[0m\u001b[0mx\u001b[0m\u001b[1;33m)\u001b[0m \u001b[1;32mif\u001b[0m \u001b[0msplit\u001b[0m\u001b[1;33m(\u001b[0m\u001b[0mrow\u001b[0m\u001b[1;33m)\u001b[0m\u001b[1;33m]\u001b[0m\u001b[1;33m\u001b[0m\u001b[0m\n\u001b[0m\u001b[0;32m      4\u001b[0m \u001b[0msplit1\u001b[0m\u001b[1;33m\u001b[0m\u001b[0m\n",
      "\u001b[1;31mTypeError\u001b[0m: 'numpy.ndarray' object is not callable"
     ]
    }
   ],
   "source": [
    "x = np.array([1,2,3,4,5,6])\n",
    "split = np.array(x >= 4)\n",
    "split1 = [i for i,row in np.ndenumerate(x) if split(row)]\n",
    "split1"
   ]
  },
  {
   "cell_type": "code",
   "execution_count": 15,
   "metadata": {},
   "outputs": [
    {
     "data": {
      "text/plain": [
       "True"
      ]
     },
     "execution_count": 15,
     "metadata": {},
     "output_type": "execute_result"
    }
   ],
   "source": [
    "a = [1,2,3]\n",
    "b = [1,2]\n",
    "set(b).issubset(a)"
   ]
  },
  {
   "cell_type": "code",
   "execution_count": 18,
   "metadata": {},
   "outputs": [
    {
     "name": "stdout",
     "output_type": "stream",
     "text": [
      "False\n"
     ]
    }
   ],
   "source": [
    "a = [True, False]\n",
    "print(not(False in a))"
   ]
  },
  {
   "cell_type": "code",
   "execution_count": null,
   "metadata": {
    "collapsed": true
   },
   "outputs": [],
   "source": []
  }
 ],
 "metadata": {
  "kernelspec": {
   "display_name": "Python 3",
   "language": "python",
   "name": "python3"
  },
  "language_info": {
   "codemirror_mode": {
    "name": "ipython",
    "version": 3
   },
   "file_extension": ".py",
   "mimetype": "text/x-python",
   "name": "python",
   "nbconvert_exporter": "python",
   "pygments_lexer": "ipython3",
   "version": "3.6.3"
  }
 },
 "nbformat": 4,
 "nbformat_minor": 2
}
